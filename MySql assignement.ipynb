{
 "cells": [
  {
   "cell_type": "markdown",
   "id": "a2f34239-6a0a-40d9-a54f-7794780ffc5c",
   "metadata": {},
   "source": [
    "# Q1. What is a database? Differentiate between SQL and NoSQL databases."
   ]
  },
  {
   "cell_type": "markdown",
   "id": "ec865bc2-6aa0-4da0-a18c-7d9b3cd2b212",
   "metadata": {},
   "source": [
    "## A database is an organized collection of structured data that is stored and managed in a computer system. It provides an efficient way to store, retrieve, and manage large amounts of information. Databases are commonly used in various applications, such as websites, financial systems, e-commerce platforms, and more.\n",
    "\n",
    "### SQL (Structured Query Language) Databases: SQL databases are based on the relational model, where data is organized into tables with predefined schemas\n",
    "### Structure: SQL databases enforce a fixed schema, meaning the structure of the data is defined in advance. Each table has predefined columns and data types, and the relationships between tables are established through keys.\n",
    "### Scalability: SQL databases typically scale vertically by adding more powerful hardware to handle increased loads. They can also scale horizontally by distributing data across multiple servers\n",
    "\n",
    "\n",
    "### NoSQL (Not Only SQL) Databases:NoSQL databases offer a more flexible and scalable approach to data storage. They are designed to handle large amounts of unstructured or semi-structured data, and they don't rely on fixed schemas \n",
    "### Flexibility: NoSQL databases allow dynamic and schema-less data storage. Records within a collection can have varying structures, making it easier to handle evolving data requirements.\n",
    "### Scalability: NoSQL databases are built to scale horizontally, distributing data across multiple servers in a cluster. They can handle massive amounts of data and provide high availability and fault tolerance.\n",
    "### Performance: NoSQL databases are optimized for performance, especially for read and write operations at a large scale. They often sacrifice some ACID properties in favor of higher throughput and lower latency.\n"
   ]
  },
  {
   "cell_type": "markdown",
   "id": "1c23f9ce-a39a-405d-9154-f490777180c5",
   "metadata": {},
   "source": [
    "# Q2. What is DDL? Explain why CREATE, DROP, ALTER, and TRUNCATE are used with an example."
   ]
  },
  {
   "cell_type": "markdown",
   "id": "701bad9a-4349-4e09-9d67-1c10e710e276",
   "metadata": {},
   "source": [
    "### DDL stands for Data Definition Language. It is a subset of SQL (Structured Query Language) that is used to define and manage the structure of a database, including creating, modifying, and deleting database objects"
   ]
  },
  {
   "cell_type": "code",
   "execution_count": null,
   "id": "ec93e1a3-95cb-4ed4-998e-fb2f9db0a5f8",
   "metadata": {},
   "outputs": [],
   "source": [
    "#CREATE:\n",
    "#The CREATE statement is used to create new database objects such as tables, indexes, views, or schemas. \n",
    "cerate table customers (\n",
    "    id INT PRIMARY KEY ,\n",
    "    name abhishek(100),\n",
    "    email abhishek(100)\n",
    ");\n",
    "    "
   ]
  },
  {
   "cell_type": "code",
   "execution_count": null,
   "id": "9fe85a02-24ed-4220-a558-89a794d4d1b9",
   "metadata": {},
   "outputs": [],
   "source": [
    "## DROP: The DROP statement is used to remove database objects such as tables, indexes, or views from the database. It permanently deletes the specified object and its associated data.\n",
    "DROP TABLE Customers;\n"
   ]
  },
  {
   "cell_type": "code",
   "execution_count": null,
   "id": "64c5fccd-99af-4a4c-8b91-bea72f641a59",
   "metadata": {},
   "outputs": [],
   "source": [
    "## ALTER: The ALTER statement is used to modify the structure of existing database objects. It allows you to add, modify, or delete columns, constraints, or other attributes of a table. \n",
    "ALTER TABLE Customers\n",
    "ADD COLUMN phone VARCHAR(20);\n"
   ]
  },
  {
   "cell_type": "code",
   "execution_count": null,
   "id": "8dbb242c-379c-4605-a7cb-057f629a9973",
   "metadata": {},
   "outputs": [],
   "source": [
    "## TRUNCATE: The TRUNCATE statement is used to remove all data from a table while keeping its structure intact. It is faster than deleting all rows one by one.\n",
    "TRUNCATE TABLE Customers;\n"
   ]
  },
  {
   "cell_type": "markdown",
   "id": "5b5cb157-8baf-4073-9a51-606ab4349fd6",
   "metadata": {},
   "source": [
    "# Q3. What is DML? Explain INSERT, UPDATE, and DELETE with an example."
   ]
  },
  {
   "cell_type": "code",
   "execution_count": null,
   "id": "49511fc3-387e-4acd-b609-e2deeba4b881",
   "metadata": {},
   "outputs": [],
   "source": [
    "#DML stands for Data Manipulation Language. It is a subset of SQL (Structured Query Language) that is used to manipulate and query data within a database. DML statements are responsible for adding, modifying, and deleting data stored in the database tables. Let's explore three commonly used DML statements:\n",
    "\n",
    "#INSERT:\n",
    "#The INSERT statement is used to add new rows of data into a table. It allows you to specify the values for each column or insert data from another table. Here's an example of inserting a new row into a table:\n",
    "\n",
    "\n",
    "INSERT INTO Customers (id, name, email)\n",
    "VALUES (1, 'John Doe', 'john@example.com');\n",
    "In this example, a row is inserted into the \"Customers\" table with the specified values for the \"id,\" \"name,\" and \"email\" columns.\n",
    "\n",
    "#UPDATE:\n",
    "#The UPDATE statement is used to modify existing data in a table. It allows you to update one or more columns of one or multiple rows. Here's an example of updating a specific row in a table:\n",
    "\n",
    "\n",
    "UPDATE Customers\n",
    "SET email = 'newemail@example.com'\n",
    "WHERE id = 1;\n",
    "This statement updates the \"email\" column of the \"Customers\" table for the row where the \"id\" is equal to 1.\n",
    "\n",
    "#DELETE:\n",
    "#The DELETE statement is used to remove one or more rows from a table. It allows you to specify a condition to delete specific rows or delete all rows from a table. Here's an example of deleting a specific row from a table:\n",
    "\n",
    "\n",
    "DELETE FROM Customers\n",
    "WHERE id = 1;\n",
    "This statement deletes the row from the \"Customers\" table where the \"id\" is equal to 1."
   ]
  },
  {
   "cell_type": "markdown",
   "id": "0a54578c-b501-47c5-a1c4-0655d1d3ffb0",
   "metadata": {},
   "source": [
    "# Q4. What is DQL? Explain SELECT with an example."
   ]
  },
  {
   "cell_type": "markdown",
   "id": "35ddcc74-2f08-43e8-975b-8f0594d4c7ab",
   "metadata": {},
   "source": [
    "## DQL stands for Data Query Language. It is a subset of SQL (Structured Query Language) that is used to retrieve data from a database. DQL statements are primarily focused on querying and retrieving data without modifying the structure or content of the database."
   ]
  },
  {
   "cell_type": "code",
   "execution_count": null,
   "id": "7a784a85-5349-4bfb-93b0-276b3394af22",
   "metadata": {},
   "outputs": [],
   "source": [
    "SELECT id, name, email\n",
    "FROM Customers\n",
    "WHERE age > 25;\n"
   ]
  },
  {
   "cell_type": "markdown",
   "id": "c8741843-b263-473b-a92d-55c2c23bd37f",
   "metadata": {},
   "source": [
    "# Q5. Explain Primary Key and Foreign Key."
   ]
  },
  {
   "cell_type": "markdown",
   "id": "fb0fab81-2668-4a3f-b1a8-27f4dfaee958",
   "metadata": {},
   "source": [
    "## Primary Key:\n",
    "## A primary key is a column or a set of columns in a database table that uniquely identifies each row. It ensures that each row in a table is uniquely identifiable and provides a way to access and manipulate specific rows of data. Key characteristics of a primary key are:\n",
    "\n",
    "## Uniqueness: Every value in the primary key column(s) must be unique. No two rows in the table can have the same primary key value.\n",
    "## Non-nullability: A primary key value cannot be null or empty. It must have a valid value for each row.\n",
    "## Immutability: The primary key value should not change once it is assigned to a row\n",
    "\n",
    "## Foreign Key:\n",
    "## A foreign key is a column or a set of columns in a database table that refers to the primary key of another table. It establishes a relationship between two tables, known as a parent-child relationship. The foreign key in the child table refers to the primary key in the parent table. Key characteristics of a foreign key are:\n",
    "\n",
    "## Referential Integrity: A foreign key ensures that the values in the child table's foreign key column(s) correspond to the values in the parent table's primary key column(s). It enforces referential integrity, preventing the creation of orphaned rows.\n",
    "## Relationship: The foreign key represents a relationship between the two tables, where the child table depends on the parent table.\n",
    "## Optional or Mandatory: Depending on the design, a foreign key can be optional or mandatory. An optional foreign key allows null values, indicating that the relationship is not always required. A mandatory foreign key enforces that a valid reference to the parent table must exist."
   ]
  },
  {
   "cell_type": "markdown",
   "id": "923072b2-3cee-48a8-bbab-9a9ce71d0a2d",
   "metadata": {},
   "source": [
    "# Q6. Write a python code to connect MySQL to python. Explain the cursor() and execute() method."
   ]
  },
  {
   "cell_type": "code",
   "execution_count": null,
   "id": "9917ea15-bd62-42d9-a8e1-c2a5d9ef2e6e",
   "metadata": {},
   "outputs": [],
   "source": [
    "import mysql.connector\n",
    "\n",
    "# Connect to MySQL\n",
    "mydb = mysql.connector.connect(\n",
    "  host=\"localhost\",\n",
    "  user=\"yourusername\",\n",
    "  password=\"yourpassword\",\n",
    "  database=\"yourdatabase\"\n",
    ")\n",
    "\n",
    "# Create a cursor object\n",
    "cursor = mydb.cursor()\n",
    "mycursor.excute(\"show databases\")\n",
    "for x in mycusor :\n",
    "    print (x)\n",
    "\n"
   ]
  },
  {
   "cell_type": "markdown",
   "id": "a8f0e99f-02c2-4806-827f-1328046db1b9",
   "metadata": {},
   "source": [
    "# Q7. Give the order of execution of SQL clauses in an SQL query."
   ]
  },
  {
   "cell_type": "code",
   "execution_count": null,
   "id": "863da5dd-97b9-41e7-9e0f-bfffada6af93",
   "metadata": {},
   "outputs": [],
   "source": []
  }
 ],
 "metadata": {
  "kernelspec": {
   "display_name": "Python 3 (ipykernel)",
   "language": "python",
   "name": "python3"
  },
  "language_info": {
   "codemirror_mode": {
    "name": "ipython",
    "version": 3
   },
   "file_extension": ".py",
   "mimetype": "text/x-python",
   "name": "python",
   "nbconvert_exporter": "python",
   "pygments_lexer": "ipython3",
   "version": "3.10.8"
  }
 },
 "nbformat": 4,
 "nbformat_minor": 5
}
